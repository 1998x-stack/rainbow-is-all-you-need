{
 "cells": [
  {
   "cell_type": "markdown",
   "metadata": {},
   "source": [
    "## Configurations for Colab"
   ]
  },
  {
   "cell_type": "code",
   "execution_count": 1,
   "metadata": {},
   "outputs": [],
   "source": [
    "import sys\n",
    "IN_COLAB = \"google.colab\" in sys.modules\n",
    "\n",
    "if IN_COLAB:\n",
    "    !apt install python-opengl\n",
    "    !apt install ffmpeg\n",
    "    !apt install xvfb\n",
    "    !pip install pyvirtualdisplay\n",
    "    !pip install gym\n",
    "    from pyvirtualdisplay import Display\n",
    "    \n",
    "    # Start virtual display\n",
    "    dis = Display(visible=0, size=(400, 400))\n",
    "    dis.start()"
   ]
  },
  {
   "cell_type": "markdown",
   "metadata": {},
   "source": [
    "# 01. DQN\n",
    "\n",
    "[V. Mnih et al., \"Human-level control through deep reinforcement learning.\" Nature, 518\n",
    "(7540):529–533, 2015.](https://storage.googleapis.com/deepmind-media/dqn/DQNNaturePaper.pdf)\n",
    "\n",
    "Reinforcement learning is known to be unstable or even to diverge when a nonlinear function approximator such as a neural network is used to represent the action-value (also known as $Q$) function. This instability has several causes: the correlations present in the sequence of observations, the fact that small updates to $Q$ may significantly change the policy and therefore change the data distribution, and the correlations between the action-values ($Q$) and the target values $r + \\gamma \\max_{a'} Q(s', a')$.\n",
    "\n",
    "The authors suggest two key ideas to address these instabilities with a novel variant of Q-learning: Replay buffer and Fixed Q-target.\n",
    "\n",
    "#### Uniformly random sampling from Experience Replay Memory\n",
    "\n",
    "Reinforcement learning agent stores the experiences consecutively in the buffer, so adjacent ($s, a, r, s'$) transitions stored are highly likely to have correlation. To remove this, the agent samples experiences uniformly at random from the pool of stored samples $\\big( (s, a, r, s') \\sim U(D) \\big)$. See sample_batch method of ReplayBuffer class for more details.\n",
    "\n",
    "#### Fixed Q-target\n",
    "\n",
    "DQN uses an iterative update that adjusts the action-values ($Q$) towards target values that are only periodically updated, thereby reducing correlations with the target; if not, it is easily divergy because the target continuously moves. The Q-learning update at iteration $i$ uses the following loss function:\n",
    "\n",
    "$$\n",
    "L_i(\\theta_i) = \\mathbb{E}_{(s,a,r,s') \\sim U(D)} \\big[ \\big( r + \\gamma \\max_{a'} Q(s',a';\\theta_i^-) - Q(s, a; \\theta_i) \\big)^2 \\big]\n",
    "$$\n",
    "\n",
    "in which $\\gamma$ is the discount factor determining the agent’s horizon, $\\theta_i$ are the parameters of the Q-network at iteration $i$ and $\\theta_i^-$ are the network parameters used to compute the target at iteration $i$. The target network parameters $\\theta_i^-$ are only updated with the Q-network parameters ($\\theta_i$) every C steps and are held fixed between individual updates. ($C = 200$ in CartPole-v0)\n",
    "\n",
    "#### For more stability: Gradient clipping\n",
    "\n",
    "The authors also found it helpful to clip the error term from the update $r + \\gamma \\max_{a'} Q(s', a'; \\theta_i^-) - Q(s,a,;\\theta_i)$ to be between -1 and 1. Because the absolute value loss function $|x|$ has a derivative of -1 for all negative values of x and a derivative of 1 for all positive values of x, clipping the squared error to be between -1 and 1 corresponds to using an absolute value loss function for errors outside of the (-1,1) interval. This form of error clipping further improved the stability of the algorithm."
   ]
  },
  {
   "cell_type": "code",
   "execution_count": 2,
   "metadata": {},
   "outputs": [],
   "source": [
    "import os\n",
    "from typing import Dict, List, Tuple\n",
    "\n",
    "import gym\n",
    "import matplotlib.pyplot as plt\n",
    "import numpy as np\n",
    "import torch\n",
    "import torch.nn as nn\n",
    "import torch.nn.functional as F\n",
    "import torch.optim as optim\n",
    "from IPython.display import clear_output"
   ]
  },
  {
   "cell_type": "markdown",
   "metadata": {},
   "source": [
    "## Replay buffer\n",
    "\n",
    "Typically, people implement replay buffers with one of the following three data structures:\n",
    "\n",
    "  - collections.deque\n",
    "  - list\n",
    "  - numpy.ndarray\n",
    "  \n",
    "**deque** is very easy to handle once you initialize its maximum length (e.g. deque(maxlen=buffer_size)). However, the indexing operation of deque gets terribly slow as it grows up because it is [internally doubly linked list](https://wiki.python.org/moin/TimeComplexity#collections.deque). On the other hands, **list** is an array, so it is relatively faster than deque when you sample batches at every step. Its amortized cost of  *Get item* is [O(1)](https://wiki.python.org/moin/TimeComplexity#list).\n",
    "\n",
    "Last but not least, let's see **numpy.ndarray**. numpy.ndarray is even faster than list due to the fact that it is [a homogeneous array of fixed-size items](https://docs.scipy.org/doc/numpy/reference/generated/numpy.ndarray.html#numpy.ndarray), so you can get the benefits of [locality of reference](https://en.wikipedia.org/wiki/Locality_of_reference). Whereas list is an array of pointers to objects, even when all of them are of the same type.\n",
    "\n",
    "Here, we are going to implement a replay buffer using numpy.ndarray.\n",
    "\n",
    "\n",
    "Reference: [OpenAI spinning-up](https://github.com/openai/spinningup/blob/master/spinup/algos/sac/sac.py#L10)"
   ]
  },
  {
   "cell_type": "code",
   "execution_count": 3,
   "metadata": {},
   "outputs": [],
   "source": [
    "class ReplayBuffer:\n",
    "    \"\"\"A simple numpy replay buffer.\"\"\"\n",
    "\n",
    "    def __init__(self, obs_dim: int, size: int, batch_size: int = 32):\n",
    "        self.obs_buf = np.zeros([size, obs_dim], dtype=np.float32)\n",
    "        self.next_obs_buf = np.zeros([size, obs_dim], dtype=np.float32)\n",
    "        self.acts_buf = np.zeros([size], dtype=np.float32)\n",
    "        self.rews_buf = np.zeros([size], dtype=np.float32)\n",
    "        self.done_buf = np.zeros(size, dtype=np.float32)\n",
    "        self.max_size, self.batch_size = size, batch_size\n",
    "        self.ptr, self.size, = 0, 0\n",
    "\n",
    "    def store(\n",
    "        self,\n",
    "        obs: np.ndarray,\n",
    "        act: np.ndarray, \n",
    "        rew: float, \n",
    "        next_obs: np.ndarray, \n",
    "        done: bool,\n",
    "    ):\n",
    "        self.obs_buf[self.ptr] = obs\n",
    "        self.next_obs_buf[self.ptr] = next_obs\n",
    "        self.acts_buf[self.ptr] = act\n",
    "        self.rews_buf[self.ptr] = rew\n",
    "        self.done_buf[self.ptr] = done\n",
    "        self.ptr = (self.ptr + 1) % self.max_size\n",
    "        self.size = min(self.size + 1, self.max_size)\n",
    "\n",
    "    def sample_batch(self) -> Dict[str, np.ndarray]:\n",
    "        idxs = np.random.choice(self.size, size=self.batch_size, replace=False)\n",
    "        return dict(obs=self.obs_buf[idxs],\n",
    "                    next_obs=self.next_obs_buf[idxs],\n",
    "                    acts=self.acts_buf[idxs],\n",
    "                    rews=self.rews_buf[idxs],\n",
    "                    done=self.done_buf[idxs])\n",
    "\n",
    "    def __len__(self) -> int:\n",
    "        return self.size"
   ]
  },
  {
   "cell_type": "markdown",
   "metadata": {},
   "source": [
    "## Network\n",
    "\n",
    "We are going to use a simple network architecture with three fully connected layers and two non-linearity functions (ReLU)."
   ]
  },
  {
   "cell_type": "code",
   "execution_count": 4,
   "metadata": {},
   "outputs": [],
   "source": [
    "class Network(nn.Module):\n",
    "    def __init__(self, in_dim: int, out_dim: int):\n",
    "        \"\"\"Initialization.\"\"\"\n",
    "        super(Network, self).__init__()\n",
    "\n",
    "        self.layers = nn.Sequential(\n",
    "            nn.Linear(in_dim, 128), \n",
    "            nn.ReLU(),\n",
    "            nn.Linear(128, 128), \n",
    "            nn.ReLU(), \n",
    "            nn.Linear(128, out_dim)\n",
    "        )\n",
    "\n",
    "    def forward(self, x: torch.Tensor) -> torch.Tensor:\n",
    "        \"\"\"Forward method implementation.\"\"\"\n",
    "        return self.layers(x)"
   ]
  },
  {
   "cell_type": "markdown",
   "metadata": {},
   "source": [
    "## DQN Agent\n",
    "\n",
    "Here is a summary of DQNAgent class.\n",
    "\n",
    "| Method           | Note                                                 |\n",
    "| ---              | ---                                                  |\n",
    "|select_action     | select an action from the input state.               |\n",
    "|step              | take an action and return the response of the env.   |\n",
    "|compute_dqn_loss  | return dqn loss.                                     |\n",
    "|update_model      | update the model by gradient descent.                |\n",
    "|target_hard_update| hard update from the local model to the target model.|\n",
    "|train             | train the agent during num_frames.                   |\n",
    "|test              | test the agent (1 episode).                          |\n",
    "|plot              | plot the training progresses.                        |\n"
   ]
  },
  {
   "cell_type": "code",
   "execution_count": 5,
   "metadata": {},
   "outputs": [],
   "source": [
    "class DQNAgent:\n",
    "    \"\"\"DQN Agent interacting with environment.\n",
    "    \n",
    "    Attribute:\n",
    "        env (gym.Env): openAI Gym environment\n",
    "        memory (ReplayBuffer): replay memory to store transitions\n",
    "        batch_size (int): batch size for sampling\n",
    "        epsilon (float): parameter for epsilon greedy policy\n",
    "        epsilon_decay (float): step size to decrease epsilon\n",
    "        max_epsilon (float): max value of epsilon\n",
    "        min_epsilon (float): min value of epsilon\n",
    "        target_update (int): period for target model's hard update\n",
    "        gamma (float): discount factor\n",
    "        dqn (Network): model to train and select actions\n",
    "        dqn_target (Network): target model to update\n",
    "        optimizer (torch.optim): optimizer for training dqn\n",
    "        transition (list): transition information including \n",
    "                           state, action, reward, next_state, done\n",
    "    \"\"\"\n",
    "\n",
    "    def __init__(\n",
    "        self, \n",
    "        env: gym.Env,\n",
    "        memory_size: int,\n",
    "        batch_size: int,\n",
    "        target_update: int,\n",
    "        epsilon_decay: float,\n",
    "        max_epsilon: float = 1.0,\n",
    "        min_epsilon: float = 0.1,\n",
    "        gamma: float = 0.99,\n",
    "    ):\n",
    "        \"\"\"Initialization.\n",
    "        \n",
    "        Args:\n",
    "            env (gym.Env): openAI Gym environment\n",
    "            memory_size (int): length of memory\n",
    "            batch_size (int): batch size for sampling\n",
    "            target_update (int): period for target model's hard update\n",
    "            epsilon_decay (float): step size to decrease epsilon\n",
    "            lr (float): learning rate\n",
    "            max_epsilon (float): max value of epsilon\n",
    "            min_epsilon (float): min value of epsilon\n",
    "            gamma (float): discount factor\n",
    "        \"\"\"\n",
    "        obs_dim = env.observation_space.shape[0]\n",
    "        action_dim = env.action_space.n\n",
    "        \n",
    "        self.env = env\n",
    "        self.memory = ReplayBuffer(obs_dim, memory_size, batch_size)\n",
    "        self.batch_size = batch_size\n",
    "        self.epsilon = max_epsilon\n",
    "        self.epsilon_decay = epsilon_decay\n",
    "        self.max_epsilon = max_epsilon\n",
    "        self.min_epsilon = min_epsilon\n",
    "        self.target_update = target_update\n",
    "        self.gamma = gamma\n",
    "        \n",
    "        # device: cpu / gpu\n",
    "        self.device = torch.device(\n",
    "            \"cuda\" if torch.cuda.is_available() else \"cpu\"\n",
    "        )\n",
    "        print(self.device)\n",
    "\n",
    "        # networks: dqn, dqn_target\n",
    "        self.dqn = Network(obs_dim, action_dim).to(self.device)\n",
    "        self.dqn_target = Network(obs_dim, action_dim).to(self.device)\n",
    "        self.dqn_target.load_state_dict(self.dqn.state_dict())\n",
    "        self.dqn_target.eval()\n",
    "        \n",
    "        # optimizer\n",
    "        self.optimizer = optim.Adam(self.dqn.parameters())\n",
    "\n",
    "        # transition to store in memory\n",
    "        self.transition = list()\n",
    "        \n",
    "        # mode: train / test\n",
    "        self.is_test = False\n",
    "\n",
    "    def select_action(self, state: np.ndarray) -> np.ndarray:\n",
    "        \"\"\"Select an action from the input state.\"\"\"\n",
    "        # epsilon greedy policy\n",
    "        if self.epsilon > np.random.random():\n",
    "            selected_action = self.env.action_space.sample()\n",
    "        else:\n",
    "            selected_action = self.dqn(\n",
    "                torch.FloatTensor(state).to(self.device)\n",
    "            ).argmax()\n",
    "            selected_action = selected_action.detach().cpu().numpy()\n",
    "        \n",
    "        if not self.is_test:\n",
    "            self.transition = [state, selected_action]\n",
    "        \n",
    "        return selected_action\n",
    "\n",
    "    def step(self, action: np.ndarray) -> Tuple[np.ndarray, np.float64, bool]:\n",
    "        \"\"\"Take an action and return the response of the env.\"\"\"\n",
    "        next_state, reward, done, _ = self.env.step(action)\n",
    "\n",
    "        if not self.is_test:\n",
    "            self.transition += [reward, next_state, done]\n",
    "            self.memory.store(*self.transition)\n",
    "    \n",
    "        return next_state, reward, done\n",
    "\n",
    "    def update_model(self) -> torch.Tensor:\n",
    "        \"\"\"Update the model by gradient descent.\"\"\"\n",
    "        samples = self.memory.sample_batch()\n",
    "\n",
    "        loss = self._compute_dqn_loss(samples)\n",
    "\n",
    "        self.optimizer.zero_grad()\n",
    "        loss.backward()\n",
    "        self.optimizer.step()\n",
    "\n",
    "        return loss.item()\n",
    "        \n",
    "    def train(self, num_frames: int, plotting_interval: int = 200):\n",
    "        \"\"\"Train the agent.\"\"\"\n",
    "        self.is_test = False\n",
    "        \n",
    "        state = self.env.reset()\n",
    "        update_cnt = 0\n",
    "        epsilons = []\n",
    "        losses = []\n",
    "        scores = []\n",
    "        score = 0\n",
    "\n",
    "        for frame_idx in range(1, num_frames + 1):\n",
    "            action = self.select_action(state)\n",
    "            next_state, reward, done = self.step(action)\n",
    "\n",
    "            state = next_state\n",
    "            score += reward\n",
    "\n",
    "            # if episode ends\n",
    "            if done:\n",
    "                state = self.env.reset()\n",
    "                scores.append(score)\n",
    "                score = 0\n",
    "\n",
    "            # if training is ready\n",
    "            if len(self.memory) >= self.batch_size:\n",
    "                loss = self.update_model()\n",
    "                losses.append(loss)\n",
    "                update_cnt += 1\n",
    "                \n",
    "                # linearly decrease epsilon\n",
    "                self.epsilon = max(\n",
    "                    self.min_epsilon, self.epsilon - (\n",
    "                        self.max_epsilon - self.min_epsilon\n",
    "                    ) * self.epsilon_decay\n",
    "                )\n",
    "                epsilons.append(self.epsilon)\n",
    "                \n",
    "                # if hard update is needed\n",
    "                if update_cnt % self.target_update == 0:\n",
    "                    self._target_hard_update()\n",
    "\n",
    "            # plotting\n",
    "            if frame_idx % plotting_interval == 0:\n",
    "                self._plot(frame_idx, scores, losses, epsilons)\n",
    "                \n",
    "        self.env.close()\n",
    "                \n",
    "    def test(self, video_folder: str) -> None:\n",
    "        \"\"\"Test the agent.\"\"\"\n",
    "        self.is_test = True\n",
    "        \n",
    "        # for recording a video\n",
    "        naive_env = self.env\n",
    "        self.env = gym.wrappers.RecordVideo(self.env, video_folder=video_folder)\n",
    "        \n",
    "        state = self.env.reset()\n",
    "        done = False\n",
    "        score = 0\n",
    "        \n",
    "        while not done:\n",
    "            action = self.select_action(state)\n",
    "            next_state, reward, done = self.step(action)\n",
    "\n",
    "            state = next_state\n",
    "            score += reward\n",
    "        \n",
    "        print(\"score: \", score)\n",
    "        self.env.close()\n",
    "        \n",
    "        # reset\n",
    "        self.env = naive_env\n",
    "\n",
    "    def _compute_dqn_loss(self, samples: Dict[str, np.ndarray]) -> torch.Tensor:\n",
    "        \"\"\"Return dqn loss.\"\"\"\n",
    "        device = self.device  # for shortening the following lines\n",
    "        state = torch.FloatTensor(samples[\"obs\"]).to(device)\n",
    "        next_state = torch.FloatTensor(samples[\"next_obs\"]).to(device)\n",
    "        action = torch.LongTensor(samples[\"acts\"].reshape(-1, 1)).to(device)\n",
    "        reward = torch.FloatTensor(samples[\"rews\"].reshape(-1, 1)).to(device)\n",
    "        done = torch.FloatTensor(samples[\"done\"].reshape(-1, 1)).to(device)\n",
    "\n",
    "        # G_t   = r + gamma * v(s_{t+1})  if state != Terminal\n",
    "        #       = r                       otherwise\n",
    "        curr_q_value = self.dqn(state).gather(1, action)\n",
    "        next_q_value = self.dqn_target(\n",
    "            next_state\n",
    "        ).max(dim=1, keepdim=True)[0].detach()\n",
    "        mask = 1 - done\n",
    "        target = (reward + self.gamma * next_q_value * mask).to(self.device)\n",
    "\n",
    "        # calculate dqn loss\n",
    "        loss = F.smooth_l1_loss(curr_q_value, target)\n",
    "\n",
    "        return loss\n",
    "\n",
    "    def _target_hard_update(self):\n",
    "        \"\"\"Hard update: target <- local.\"\"\"\n",
    "        self.dqn_target.load_state_dict(self.dqn.state_dict())\n",
    "                \n",
    "    def _plot(\n",
    "        self, \n",
    "        frame_idx: int, \n",
    "        scores: List[float], \n",
    "        losses: List[float], \n",
    "        epsilons: List[float],\n",
    "    ):\n",
    "        \"\"\"Plot the training progresses.\"\"\"\n",
    "        clear_output(True)\n",
    "        plt.figure(figsize=(20, 5))\n",
    "        plt.subplot(131)\n",
    "        plt.title('frame %s. score: %s' % (frame_idx, np.mean(scores[-10:])))\n",
    "        plt.plot(scores)\n",
    "        plt.subplot(132)\n",
    "        plt.title('loss')\n",
    "        plt.plot(losses)\n",
    "        plt.subplot(133)\n",
    "        plt.title('epsilons')\n",
    "        plt.plot(epsilons)\n",
    "        plt.show()"
   ]
  },
  {
   "cell_type": "markdown",
   "metadata": {},
   "source": [
    "## Environment\n",
    "\n",
    "You can see the [code](https://github.com/openai/gym/blob/master/gym/envs/classic_control/cartpole.py) and [configurations](https://github.com/openai/gym/blob/master/gym/envs/__init__.py#L53) of CartPole-v0 from OpenAI's repository."
   ]
  },
  {
   "cell_type": "code",
   "execution_count": 6,
   "metadata": {},
   "outputs": [],
   "source": [
    "# environment\n",
    "env_id = \"CartPole-v0\"\n",
    "env = gym.make(env_id)"
   ]
  },
  {
   "cell_type": "markdown",
   "metadata": {},
   "source": [
    "## Set random seed"
   ]
  },
  {
   "cell_type": "code",
   "execution_count": 7,
   "metadata": {},
   "outputs": [
    {
     "data": {
      "text/plain": [
       "[777]"
      ]
     },
     "execution_count": 7,
     "metadata": {},
     "output_type": "execute_result"
    }
   ],
   "source": [
    "seed = 777\n",
    "\n",
    "def seed_torch(seed):\n",
    "    torch.manual_seed(seed)\n",
    "    if torch.backends.cudnn.enabled:\n",
    "        torch.backends.cudnn.benchmark = False\n",
    "        torch.backends.cudnn.deterministic = True\n",
    "\n",
    "np.random.seed(seed)\n",
    "seed_torch(seed)\n",
    "env.seed(seed)"
   ]
  },
  {
   "cell_type": "markdown",
   "metadata": {},
   "source": [
    "## Initialize"
   ]
  },
  {
   "cell_type": "code",
   "execution_count": 8,
   "metadata": {},
   "outputs": [
    {
     "name": "stdout",
     "output_type": "stream",
     "text": [
      "cpu\n"
     ]
    }
   ],
   "source": [
    "# parameters\n",
    "num_frames = 10000\n",
    "memory_size = 1000\n",
    "batch_size = 32\n",
    "target_update = 100\n",
    "epsilon_decay = 1 / 2000\n",
    "\n",
    "agent = DQNAgent(env, memory_size, batch_size, target_update, epsilon_decay)"
   ]
  },
  {
   "cell_type": "markdown",
   "metadata": {},
   "source": [
    "## Train"
   ]
  },
  {
   "cell_type": "code",
   "execution_count": 9,
   "metadata": {},
   "outputs": [
    {
     "data": {
      "image/png": "[encoded data removed]",
      "text/plain": [
       "<Figure size 1440x360 with 3 Axes>"
      ]
     },
     "metadata": {
      "needs_background": "light"
     },
     "output_type": "display_data"
    }
   ],
   "source": [
    "agent.train(num_frames)"
   ]
  },
  {
   "cell_type": "markdown",
   "metadata": {},
   "source": [
    "## Test\n",
    "\n",
    "Run the trained agent (1 episode)."
   ]
  },
  {
   "cell_type": "code",
   "execution_count": 10,
   "metadata": {},
   "outputs": [
    {
     "name": "stdout",
     "output_type": "stream",
     "text": [
      "score:  200.0\n"
     ]
    }
   ],
   "source": [
    "video_folder=\"videos/dqn\"\n",
    "agent.test(video_folder=video_folder)"
   ]
  },
  {
   "cell_type": "markdown",
   "metadata": {},
   "source": [
    "## Render"
   ]
  },
  {
   "cell_type": "code",
   "execution_count": 11,
   "metadata": {},
   "outputs": [
    {
     "data": {
      "text/html": [
       "\n",
       "        <video width=\"320\" height=\"240\" alt=\"test\" controls>\n",
       "        <source src=\"data:video/mp4;base64,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\" type=\"video/mp4\"/>\n",
       "        </video>\n",
       "        "
      ],
      "text/plain": [
       "<IPython.core.display.HTML object>"
      ]
     },
     "metadata": {},
     "output_type": "display_data"
    },
    {
     "name": "stdout",
     "output_type": "stream",
     "text": [
      "Played: videos/dqn/rl-video-episode-0.mp4\n"
     ]
    }
   ],
   "source": [
    "from render import show_latest_video\n",
    "\n",
    "latest_file = show_latest_video(video_folder=video_folder)\n",
    "print(\"Played:\", latest_file)"
   ]
  }
 ],
 "metadata": {
  "kernelspec": {
   "display_name": "Python 3 (ipykernel)",
   "language": "python",
   "name": "python3"
  },
  "language_info": {
   "codemirror_mode": {
    "name": "ipython",
    "version": 3
   },
   "file_extension": ".py",
   "mimetype": "text/x-python",
   "name": "python",
   "nbconvert_exporter": "python",
   "pygments_lexer": "ipython3",
   "version": "3.9.9"
  }
 },
 "nbformat": 4,
 "nbformat_minor": 2
}
